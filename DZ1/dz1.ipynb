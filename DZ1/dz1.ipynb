{
 "cells": [
  {
   "cell_type": "code",
   "execution_count": 4,
   "metadata": {},
   "outputs": [
    {
     "name": "stdout",
     "output_type": "stream",
     "text": [
      "True\n"
     ]
    }
   ],
   "source": [
    "# задание 1\n",
    "long_phrase = 'Насколько проще было бы писать программы, если бы не заказчики'\n",
    "short_phrase = '640Кб должно хватить для любых задач. Билл Гейтс (по легенде)'\n",
    "leng_long = int(len(long_phrase))\n",
    "leng_short = int(len(short_phrase))\n",
    "print(leng_long > leng_short)"
   ]
  },
  {
   "cell_type": "code",
   "execution_count": 1,
   "metadata": {},
   "outputs": [
    {
     "name": "stdout",
     "output_type": "stream",
     "text": [
      "Объем файла равен 213.68 mb\n"
     ]
    }
   ],
   "source": [
    "# задание 2 \n",
    "mb = 2 ** 20\n",
    "file = 224059719.68\n",
    "file_size = file / mb\n",
    "print('Объем файла равен', file_size, 'mb')"
   ]
  },
  {
   "cell_type": "code",
   "execution_count": 7,
   "metadata": {},
   "outputs": [
    {
     "name": "stdout",
     "output_type": "stream",
     "text": [
      "Введите месяц рождения8\n",
      "Введите дату рождения7\n",
      "Лев\n"
     ]
    }
   ],
   "source": [
    "# задание 3\n",
    "month = int(input('Введите месяц рождения'))\n",
    "data = int(input('Введите дату рождения'))\n",
    "\n",
    "if month == 3 and data >= 21 or month == 4 and data <= 20:\n",
    "   print('Овен')\n",
    "if month == 4 and data >= 21 or month == 5 and data <= 21:\n",
    "   print('Телец')\n",
    "if month == 5 and data >= 22 or month == 6 and data <= 21:\n",
    "   print('Близнецы')\n",
    "if month == 6 and data >= 22 or month == 7 and data <= 22:\n",
    "   print('Рак')\n",
    "if month == 7 and data >= 23 or month == 8 and data <= 23:\n",
    "   print('Лев')\n",
    "if month == 8 and data >= 24 or month == 9 and data <= 23:\n",
    "   print('Дева')\n",
    "if month == 9 and data >= 24 or month == 10 and data <= 23:\n",
    "   print('Весы')\n",
    "if month == 10 and data >= 24 or month == 11 and data <= 22:\n",
    "   print('Скорпион')\n",
    "if month == 11 and data >= 23 or month == 12 and data <= 21:\n",
    "   print('Стрелец')\n",
    "if month == 12 and data >= 22 or month == 1 and data <= 20:\n",
    "   print('Козерог')\n",
    "if month == 1 and data >= 21 or month == 2 and data <= 18:\n",
    "   print('Водолей')\n",
    "if month == 2 and data >= 20 or month == 3 and data <= 20:\n",
    "   print('Рыбы')"
   ]
  },
  {
   "cell_type": "code",
   "execution_count": 10,
   "metadata": {},
   "outputs": [
    {
     "name": "stdout",
     "output_type": "stream",
     "text": [
      "Ежемесячный доход100000\n",
      "Процент от дохода на оплату ипотеки50\n",
      "Процент от дохода на жизнь20\n",
      "Сколько раз в год начисляют премию2\n",
      "Ваша зарплата за год: 1200000 рублей\n",
      "Ваш общий доход за год: 2400000.0 рублей\n",
      "Вы внесли за ипотеку: 600000.0 рублей\n",
      "Вы накопили на отпуск: 1200000.0 рублей\n",
      "Вы накопили на пенсию: 1560000.0 рублей\n"
     ]
    }
   ],
   "source": [
    "# задание 4\n",
    "salary_input = int(input('Ежемесячный доход'))\n",
    "percent_ipoteka = int(input('Процент от дохода на оплату ипотеки'))\n",
    "percent_life = int(input('Процент от дохода на жизнь'))\n",
    "bonus_qnt = int(input('Сколько раз в год начисляют премию'))\n",
    "ipoteka = salary_input * percent_ipoteka / 100\n",
    "life = salary_input * percent_life / 100\n",
    "bonus = salary_input * bonus_qnt\n",
    "otpusk = bonus / 2\n",
    "bonus_year = (bonus / 2) * 12\n",
    "salary_year = salary_input * 12\n",
    "total_income = salary_year + bonus_year\n",
    "ipoteka_year = ipoteka * 12\n",
    "life_year = life * 12\n",
    "pension = total_income - (ipoteka_year + life_year) \n",
    "print ('Ваша зарплата за год:', salary_year, 'рублей')\n",
    "print ('Ваш общий доход за год:', total_income, 'рублей')\n",
    "print ('Вы внесли за ипотеку:', ipoteka_year, 'рублей')\n",
    "print ('Вы накопили на отпуск:', bonus_year, 'рублей')\n",
    "print ('Вы накопили на пенсию:', pension, 'рублей')"
   ]
  }
 ],
 "metadata": {
  "kernelspec": {
   "display_name": "Python 3",
   "language": "python",
   "name": "python3"
  },
  "language_info": {
   "codemirror_mode": {
    "name": "ipython",
    "version": 3
   },
   "file_extension": ".py",
   "mimetype": "text/x-python",
   "name": "python",
   "nbconvert_exporter": "python",
   "pygments_lexer": "ipython3",
   "version": "3.7.6"
  }
 },
 "nbformat": 4,
 "nbformat_minor": 4
}
