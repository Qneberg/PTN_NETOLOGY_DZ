{
 "cells": [
  {
   "cell_type": "code",
   "execution_count": 60,
   "metadata": {},
   "outputs": [
    {
     "name": "stdout",
     "output_type": "stream",
     "text": [
      "qweqweqweq\n",
      "Чётное. Средние символы\n"
     ]
    }
   ],
   "source": [
    "word = input()\n",
    "leng = int(len(word))\n",
    "sr = leng // 2\n",
    "\n",
    "if len(word) % 2 == 0:\n",
    "    print('Чётное. Средние символы')\n",
    "else:\n",
    "    print (\"Нечётное. Средний символ:\", text[sr2])"
   ]
  },
  {
   "cell_type": "code",
   "execution_count": null,
   "metadata": {},
   "outputs": [],
   "source": [
    "\n",
    "text = \"skjute o\"\n",
    "dlinna = len(text)\n",
    "print(dlinna)\n",
    "print(\"Первый символ\", text[0])\n",
    "print(\"Последний символ\", text[-1])\n",
    "if (dlinna % 2) != 0:\n",
    "    print(\"В строке нечетное количество символов\")\n",
    "else:\n",
    "# Что написать для вывода, среднего символа? Т.к дальше выдает ошибку в print(text[midl]). Нельзя использовать midl\n",
    "    midl = dlinna / 2\n",
    "    print(text[midl])"
   ]
  },
  {
   "cell_type": "code",
   "execution_count": 23,
   "metadata": {},
   "outputs": [
    {
     "name": "stdout",
     "output_type": "stream",
     "text": [
      "sdmfbkdmb\n",
      "Средний символ: b\n"
     ]
    }
   ],
   "source": [
    "word = input()\n",
    "\n",
    "if len(word) % 2 == 0:\n",
    "    print('Чётное количество знаков')\n",
    "else:\n",
    "    leng = int(len(word))\n",
    "    sr = leng // 2\n",
    "    print (\"Средний символ:\", text[sr])"
   ]
  },
  {
   "cell_type": "code",
   "execution_count": null,
   "metadata": {},
   "outputs": [],
   "source": []
  },
  {
   "cell_type": "code",
   "execution_count": null,
   "metadata": {},
   "outputs": [],
   "source": []
  },
  {
   "cell_type": "code",
   "execution_count": null,
   "metadata": {},
   "outputs": [],
   "source": [
    "boys = ['Peter', 'Alex', 'John', 'Arthur', 'Richard']\n",
    "girls = ['Kate', 'Liza', 'Kira', 'Emma', 'Trisha']"
   ]
  },
  {
   "cell_type": "code",
   "execution_count": null,
   "metadata": {},
   "outputs": [],
   "source": []
  },
  {
   "cell_type": "code",
   "execution_count": null,
   "metadata": {},
   "outputs": [],
   "source": []
  },
  {
   "cell_type": "code",
   "execution_count": null,
   "metadata": {},
   "outputs": [],
   "source": []
  },
  {
   "cell_type": "code",
   "execution_count": null,
   "metadata": {},
   "outputs": [],
   "source": []
  },
  {
   "cell_type": "code",
   "execution_count": null,
   "metadata": {},
   "outputs": [],
   "source": []
  },
  {
   "cell_type": "code",
   "execution_count": null,
   "metadata": {},
   "outputs": [],
   "source": []
  },
  {
   "cell_type": "code",
   "execution_count": null,
   "metadata": {},
   "outputs": [],
   "source": []
  },
  {
   "cell_type": "code",
   "execution_count": null,
   "metadata": {},
   "outputs": [],
   "source": []
  },
  {
   "cell_type": "code",
   "execution_count": null,
   "metadata": {},
   "outputs": [],
   "source": []
  }
 ],
 "metadata": {
  "kernelspec": {
   "display_name": "Python 3",
   "language": "python",
   "name": "python3"
  },
  "language_info": {
   "codemirror_mode": {
    "name": "ipython",
    "version": 3
   },
   "file_extension": ".py",
   "mimetype": "text/x-python",
   "name": "python",
   "nbconvert_exporter": "python",
   "pygments_lexer": "ipython3",
   "version": "3.7.6"
  }
 },
 "nbformat": 4,
 "nbformat_minor": 4
}
